{
  "nbformat": 4,
  "nbformat_minor": 0,
  "metadata": {
    "colab": {
      "provenance": [],
      "authorship_tag": "ABX9TyOxEKaLz43rC56H4z9UCm3/",
      "include_colab_link": true
    },
    "kernelspec": {
      "name": "python3",
      "display_name": "Python 3"
    },
    "language_info": {
      "name": "python"
    }
  },
  "cells": [
    {
      "cell_type": "markdown",
      "metadata": {
        "id": "view-in-github",
        "colab_type": "text"
      },
      "source": [
        "<a href=\"https://colab.research.google.com/github/Octaxx/DLI-Assignment/blob/main/Kaifung_Model_2.ipynb\" target=\"_parent\"><img src=\"https://colab.research.google.com/assets/colab-badge.svg\" alt=\"Open In Colab\"/></a>"
      ]
    },
    {
      "cell_type": "code",
      "execution_count": null,
      "metadata": {
        "id": "TvQnb30MCV5Z"
      },
      "outputs": [],
      "source": [
        "from google.colab import drive\n",
        "drive.mount('/content/drive')"
      ]
    },
    {
      "cell_type": "code",
      "source": [
        "import requests\n",
        "import nbformat\n",
        "from IPython import get_ipython\n",
        "\n",
        "# Load and run DatasetCleaning.ipynb from GitHub (including Step 7)\n",
        "url = \"https://raw.githubusercontent.com/Octaxx/DLI-Assignment/refs/heads/main/DatasetCleaning.ipynb\"\n",
        "response = requests.get(url)\n",
        "notebook = nbformat.reads(response.text, as_version=4)\n",
        "ipython = get_ipython()\n",
        "\n",
        "print(\"⚙️ Running cells from DatasetCleaning.ipynb...\\n\")\n",
        "\n",
        "for i, cell in enumerate(notebook.cells):\n",
        "    if cell.cell_type == 'code':\n",
        "        try:\n",
        "            print(f\"▶️ Executing cell {i+1}...\")\n",
        "            ipython.run_cell(cell.source)\n",
        "        except Exception as e:\n",
        "            print(f\"❌ Error in cell {i+1}: {e}\")\n",
        "\n",
        "print(\"\\n✅ All notebook cells executed.\")"
      ],
      "metadata": {
        "id": "rBEiOxE4CfPv"
      },
      "execution_count": null,
      "outputs": []
    },
    {
      "cell_type": "code",
      "source": [
        "import time\n",
        "import pandas as pd\n",
        "import numpy as np\n",
        "from sklearn.naive_bayes import MultinomialNB\n",
        "from sklearn.svm import LinearSVC\n",
        "from sklearn.calibration import CalibratedClassifierCV\n",
        "from sklearn.neural_network import MLPClassifier\n",
        "from sklearn.ensemble import VotingClassifier\n",
        "from sklearn.model_selection import train_test_split\n",
        "from sklearn.metrics import accuracy_score, precision_score, recall_score, f1_score, roc_auc_score, log_loss\n",
        "from sklearn.feature_extraction.text import TfidfVectorizer\n",
        "from sklearn.compose import ColumnTransformer\n",
        "from sklearn.pipeline import Pipeline\n",
        "from sklearn.base import clone"
      ],
      "metadata": {
        "id": "q3VapLPUCxj0"
      },
      "execution_count": null,
      "outputs": []
    },
    {
      "cell_type": "code",
      "source": [
        "text_transformer = Pipeline([\n",
        "    ('tfidf', TfidfVectorizer(stop_words='english', max_features=7000, ngram_range=(1, 2), min_df=2))\n",
        "])\n",
        "custom_features = ['char_count', 'word_count', 'exclamation_count',\n",
        "                   'uppercase_ratio', 'has_link', 'has_login_word', 'has_html']\n",
        "column_transformer = ColumnTransformer([\n",
        "    ('text', text_transformer, 'Email Text'),\n",
        "    ('custom', 'passthrough', custom_features)\n",
        "])"
      ],
      "metadata": {
        "id": "K7EDSmr6C19s"
      },
      "execution_count": null,
      "outputs": []
    }
  ]
}