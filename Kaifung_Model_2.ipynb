{
  "nbformat": 4,
  "nbformat_minor": 0,
  "metadata": {
    "colab": {
      "provenance": [],
      "authorship_tag": "ABX9TyNwj95BdsiRoduFXJwOUqaf",
      "include_colab_link": true
    },
    "kernelspec": {
      "name": "python3",
      "display_name": "Python 3"
    },
    "language_info": {
      "name": "python"
    }
  },
  "cells": [
    {
      "cell_type": "markdown",
      "metadata": {
        "id": "view-in-github",
        "colab_type": "text"
      },
      "source": [
        "<a href=\"https://colab.research.google.com/github/Octaxx/DLI-Assignment/blob/main/Kaifung_Model_2.ipynb\" target=\"_parent\"><img src=\"https://colab.research.google.com/assets/colab-badge.svg\" alt=\"Open In Colab\"/></a>"
      ]
    },
    {
      "cell_type": "code",
      "execution_count": null,
      "metadata": {
        "id": "TvQnb30MCV5Z"
      },
      "outputs": [],
      "source": [
        "from google.colab import drive\n",
        "drive.mount('/content/drive')"
      ]
    },
    {
      "cell_type": "code",
      "source": [
        "import requests\n",
        "import nbformat\n",
        "from IPython import get_ipython\n",
        "\n",
        "# Load and run DatasetCleaning.ipynb from GitHub (including Step 7)\n",
        "url = \"https://raw.githubusercontent.com/Octaxx/DLI-Assignment/refs/heads/main/DatasetCleaning.ipynb\"\n",
        "response = requests.get(url)\n",
        "notebook = nbformat.reads(response.text, as_version=4)\n",
        "ipython = get_ipython()\n",
        "\n",
        "print(\"⚙️ Running cells from DatasetCleaning.ipynb...\\n\")\n",
        "\n",
        "for i, cell in enumerate(notebook.cells):\n",
        "    if cell.cell_type == 'code':\n",
        "        try:\n",
        "            print(f\"▶️ Executing cell {i+1}...\")\n",
        "            ipython.run_cell(cell.source)\n",
        "        except Exception as e:\n",
        "            print(f\"❌ Error in cell {i+1}: {e}\")\n",
        "\n",
        "print(\"\\n✅ All notebook cells executed.\")"
      ],
      "metadata": {
        "id": "rBEiOxE4CfPv"
      },
      "execution_count": null,
      "outputs": []
    }
  ]
}