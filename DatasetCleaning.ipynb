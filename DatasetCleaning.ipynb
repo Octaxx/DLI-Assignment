{
  "nbformat": 4,
  "nbformat_minor": 0,
  "metadata": {
    "colab": {
      "provenance": [],
      "authorship_tag": "ABX9TyPFK67W7FMEBPEIW+TKPPrL",
      "include_colab_link": true
    },
    "kernelspec": {
      "name": "python3",
      "display_name": "Python 3"
    },
    "language_info": {
      "name": "python"
    }
  },
  "cells": [
    {
      "cell_type": "markdown",
      "metadata": {
        "id": "view-in-github",
        "colab_type": "text"
      },
      "source": [
        "<a href=\"https://colab.research.google.com/github/Octaxx/DLI-Assignment/blob/main/DatasetCleaning.ipynb\" target=\"_parent\"><img src=\"https://colab.research.google.com/assets/colab-badge.svg\" alt=\"Open In Colab\"/></a>"
      ]
    },
    {
      "cell_type": "code",
      "execution_count": 3,
      "metadata": {
        "colab": {
          "base_uri": "https://localhost:8080/"
        },
        "id": "TaccSS50YSNm",
        "outputId": "8bd66835-dd06-4407-8005-69d5aa8f5c6c"
      },
      "outputs": [
        {
          "output_type": "stream",
          "name": "stdout",
          "text": [
            "   Unnamed: 0                                         Email Text  \\\n",
            "0           0  re : 6 . 1100 , disc : uniformitarianism , re ...   \n",
            "1           1  the other side of * galicismos * * galicismo *...   \n",
            "2           2  re : equistar deal tickets are you still avail...   \n",
            "3           3  \\nHello I am your hot lil horny toy.\\n    I am...   \n",
            "4           4  software at incredibly low prices ( 86 % lower...   \n",
            "5           5  global risk management operations sally congra...   \n",
            "6           6  On Sun, Aug 11, 2002 at 11:17:47AM +0100, wint...   \n",
            "7           7  entourage , stockmogul newsletter ralph velez ...   \n",
            "8           8  we owe you lots of money dear applicant , afte...   \n",
            "9           9  re : coastal deal - with exxon participation u...   \n",
            "\n",
            "       Email Type  \n",
            "0      Safe Email  \n",
            "1      Safe Email  \n",
            "2      Safe Email  \n",
            "3  Phishing Email  \n",
            "4  Phishing Email  \n",
            "5      Safe Email  \n",
            "6      Safe Email  \n",
            "7  Phishing Email  \n",
            "8  Phishing Email  \n",
            "9      Safe Email  \n"
          ]
        }
      ],
      "source": [
        "import pandas as pd\n",
        "from sklearn.utils import resample\n",
        "\n",
        "# STEP 1: Load the dataset\n",
        "url = \"https://raw.githubusercontent.com/Octaxx/DLI-Assignment/refs/heads/main/Phishing_Email.csv\"\n",
        "df = pd.read_csv(url)\n",
        "\n",
        "# Display the first 10 rows\n",
        "print(df.head(10))"
      ]
    }
  ]
}